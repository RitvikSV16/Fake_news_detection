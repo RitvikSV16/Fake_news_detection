{
 "cells": [
  {
   "cell_type": "code",
   "execution_count": 1,
   "id": "ac021a5a",
   "metadata": {
    "_cell_guid": "b1076dfc-b9ad-4769-8c92-a6c4dae69d19",
    "_uuid": "8f2839f25d086af736a60e9eeb907d3b93b6e0e5",
    "execution": {
     "iopub.execute_input": "2023-06-17T12:41:22.615221Z",
     "iopub.status.busy": "2023-06-17T12:41:22.614824Z",
     "iopub.status.idle": "2023-06-17T12:41:22.633033Z",
     "shell.execute_reply": "2023-06-17T12:41:22.632126Z"
    },
    "papermill": {
     "duration": 0.030664,
     "end_time": "2023-06-17T12:41:22.635587",
     "exception": false,
     "start_time": "2023-06-17T12:41:22.604923",
     "status": "completed"
    },
    "tags": []
   },
   "outputs": [
    {
     "name": "stdout",
     "output_type": "stream",
     "text": [
      "/kaggle/input/fake-news-detection/data.h5\n",
      "/kaggle/input/fake-news-detection/data.csv\n"
     ]
    }
   ],
   "source": [
    "# This Python 3 environment comes with many helpful analytics libraries installed\n",
    "# It is defined by the kaggle/python Docker image: https://github.com/kaggle/docker-python\n",
    "# For example, here's several helpful packages to load\n",
    "\n",
    "import numpy as np # linear algebra\n",
    "import pandas as pd # data processing, CSV file I/O (e.g. pd.read_csv)\n",
    "\n",
    "# Input data files are available in the read-only \"../input/\" directory\n",
    "# For example, running this (by clicking run or pressing Shift+Enter) will list all files under the input directory\n",
    "\n",
    "import os\n",
    "for dirname, _, filenames in os.walk('/kaggle/input'):\n",
    "    for filename in filenames:\n",
    "        print(os.path.join(dirname, filename))\n",
    "\n",
    "# You can write up to 20GB to the current directory (/kaggle/working/) that gets preserved as output when you create a version using \"Save & Run All\" \n",
    "# You can also write temporary files to /kaggle/temp/, but they won't be saved outside of the current session"
   ]
  },
  {
   "cell_type": "code",
   "execution_count": 2,
   "id": "8a13c97a",
   "metadata": {
    "execution": {
     "iopub.execute_input": "2023-06-17T12:41:22.654243Z",
     "iopub.status.busy": "2023-06-17T12:41:22.653763Z",
     "iopub.status.idle": "2023-06-17T12:41:23.041938Z",
     "shell.execute_reply": "2023-06-17T12:41:23.040658Z"
    },
    "papermill": {
     "duration": 0.401725,
     "end_time": "2023-06-17T12:41:23.045156",
     "exception": false,
     "start_time": "2023-06-17T12:41:22.643431",
     "status": "completed"
    },
    "tags": []
   },
   "outputs": [],
   "source": [
    "df=pd.read_csv('/kaggle/input/fake-news-detection/data.csv')"
   ]
  },
  {
   "cell_type": "code",
   "execution_count": 3,
   "id": "1380d717",
   "metadata": {
    "execution": {
     "iopub.execute_input": "2023-06-17T12:41:23.062517Z",
     "iopub.status.busy": "2023-06-17T12:41:23.062080Z",
     "iopub.status.idle": "2023-06-17T12:41:23.096232Z",
     "shell.execute_reply": "2023-06-17T12:41:23.094958Z"
    },
    "papermill": {
     "duration": 0.045607,
     "end_time": "2023-06-17T12:41:23.098846",
     "exception": false,
     "start_time": "2023-06-17T12:41:23.053239",
     "status": "completed"
    },
    "tags": []
   },
   "outputs": [
    {
     "data": {
      "text/html": [
       "<div>\n",
       "<style scoped>\n",
       "    .dataframe tbody tr th:only-of-type {\n",
       "        vertical-align: middle;\n",
       "    }\n",
       "\n",
       "    .dataframe tbody tr th {\n",
       "        vertical-align: top;\n",
       "    }\n",
       "\n",
       "    .dataframe thead th {\n",
       "        text-align: right;\n",
       "    }\n",
       "</style>\n",
       "<table border=\"1\" class=\"dataframe\">\n",
       "  <thead>\n",
       "    <tr style=\"text-align: right;\">\n",
       "      <th></th>\n",
       "      <th>URLs</th>\n",
       "      <th>Headline</th>\n",
       "      <th>Body</th>\n",
       "      <th>Label</th>\n",
       "    </tr>\n",
       "  </thead>\n",
       "  <tbody>\n",
       "    <tr>\n",
       "      <th>0</th>\n",
       "      <td>http://www.bbc.com/news/world-us-canada-414191...</td>\n",
       "      <td>Four ways Bob Corker skewered Donald Trump</td>\n",
       "      <td>Image copyright Getty Images\\nOn Sunday mornin...</td>\n",
       "      <td>1</td>\n",
       "    </tr>\n",
       "    <tr>\n",
       "      <th>1</th>\n",
       "      <td>https://www.reuters.com/article/us-filmfestiva...</td>\n",
       "      <td>Linklater's war veteran comedy speaks to moder...</td>\n",
       "      <td>LONDON (Reuters) - “Last Flag Flying”, a comed...</td>\n",
       "      <td>1</td>\n",
       "    </tr>\n",
       "    <tr>\n",
       "      <th>2</th>\n",
       "      <td>https://www.nytimes.com/2017/10/09/us/politics...</td>\n",
       "      <td>Trump’s Fight With Corker Jeopardizes His Legi...</td>\n",
       "      <td>The feud broke into public view last week when...</td>\n",
       "      <td>1</td>\n",
       "    </tr>\n",
       "    <tr>\n",
       "      <th>3</th>\n",
       "      <td>https://www.reuters.com/article/us-mexico-oil-...</td>\n",
       "      <td>Egypt's Cheiron wins tie-up with Pemex for Mex...</td>\n",
       "      <td>MEXICO CITY (Reuters) - Egypt’s Cheiron Holdin...</td>\n",
       "      <td>1</td>\n",
       "    </tr>\n",
       "    <tr>\n",
       "      <th>4</th>\n",
       "      <td>http://www.cnn.com/videos/cnnmoney/2017/10/08/...</td>\n",
       "      <td>Jason Aldean opens 'SNL' with Vegas tribute</td>\n",
       "      <td>Country singer Jason Aldean, who was performin...</td>\n",
       "      <td>1</td>\n",
       "    </tr>\n",
       "    <tr>\n",
       "      <th>5</th>\n",
       "      <td>http://beforeitsnews.com/sports/2017/09/jetnat...</td>\n",
       "      <td>JetNation FanDuel League; Week 4</td>\n",
       "      <td>JetNation FanDuel League; Week 4\\n% of readers...</td>\n",
       "      <td>0</td>\n",
       "    </tr>\n",
       "    <tr>\n",
       "      <th>6</th>\n",
       "      <td>https://www.nytimes.com/2017/10/10/us/politics...</td>\n",
       "      <td>Kansas Tried a Tax Plan Similar to Trump’s. It...</td>\n",
       "      <td>In 2012, Kansas lawmakers, led by Gov. Sam Bro...</td>\n",
       "      <td>1</td>\n",
       "    </tr>\n",
       "    <tr>\n",
       "      <th>7</th>\n",
       "      <td>https://www.reuters.com/article/us-india-cenba...</td>\n",
       "      <td>India RBI chief: growth important, but not at ...</td>\n",
       "      <td>The Reserve Bank of India (RBI) Governor Urjit...</td>\n",
       "      <td>1</td>\n",
       "    </tr>\n",
       "    <tr>\n",
       "      <th>8</th>\n",
       "      <td>https://www.reuters.com/article/us-climatechan...</td>\n",
       "      <td>EPA chief to sign rule on Clean Power Plan exi...</td>\n",
       "      <td>Scott Pruitt, Administrator of the U.S. Enviro...</td>\n",
       "      <td>1</td>\n",
       "    </tr>\n",
       "  </tbody>\n",
       "</table>\n",
       "</div>"
      ],
      "text/plain": [
       "                                                URLs  \\\n",
       "0  http://www.bbc.com/news/world-us-canada-414191...   \n",
       "1  https://www.reuters.com/article/us-filmfestiva...   \n",
       "2  https://www.nytimes.com/2017/10/09/us/politics...   \n",
       "3  https://www.reuters.com/article/us-mexico-oil-...   \n",
       "4  http://www.cnn.com/videos/cnnmoney/2017/10/08/...   \n",
       "5  http://beforeitsnews.com/sports/2017/09/jetnat...   \n",
       "6  https://www.nytimes.com/2017/10/10/us/politics...   \n",
       "7  https://www.reuters.com/article/us-india-cenba...   \n",
       "8  https://www.reuters.com/article/us-climatechan...   \n",
       "\n",
       "                                            Headline  \\\n",
       "0         Four ways Bob Corker skewered Donald Trump   \n",
       "1  Linklater's war veteran comedy speaks to moder...   \n",
       "2  Trump’s Fight With Corker Jeopardizes His Legi...   \n",
       "3  Egypt's Cheiron wins tie-up with Pemex for Mex...   \n",
       "4        Jason Aldean opens 'SNL' with Vegas tribute   \n",
       "5                   JetNation FanDuel League; Week 4   \n",
       "6  Kansas Tried a Tax Plan Similar to Trump’s. It...   \n",
       "7  India RBI chief: growth important, but not at ...   \n",
       "8  EPA chief to sign rule on Clean Power Plan exi...   \n",
       "\n",
       "                                                Body  Label  \n",
       "0  Image copyright Getty Images\\nOn Sunday mornin...      1  \n",
       "1  LONDON (Reuters) - “Last Flag Flying”, a comed...      1  \n",
       "2  The feud broke into public view last week when...      1  \n",
       "3  MEXICO CITY (Reuters) - Egypt’s Cheiron Holdin...      1  \n",
       "4  Country singer Jason Aldean, who was performin...      1  \n",
       "5  JetNation FanDuel League; Week 4\\n% of readers...      0  \n",
       "6  In 2012, Kansas lawmakers, led by Gov. Sam Bro...      1  \n",
       "7  The Reserve Bank of India (RBI) Governor Urjit...      1  \n",
       "8  Scott Pruitt, Administrator of the U.S. Enviro...      1  "
      ]
     },
     "execution_count": 3,
     "metadata": {},
     "output_type": "execute_result"
    }
   ],
   "source": [
    "df.head(9)"
   ]
  },
  {
   "cell_type": "code",
   "execution_count": 4,
   "id": "82c05e95",
   "metadata": {
    "execution": {
     "iopub.execute_input": "2023-06-17T12:41:23.117745Z",
     "iopub.status.busy": "2023-06-17T12:41:23.116643Z",
     "iopub.status.idle": "2023-06-17T12:41:23.134850Z",
     "shell.execute_reply": "2023-06-17T12:41:23.133528Z"
    },
    "papermill": {
     "duration": 0.03019,
     "end_time": "2023-06-17T12:41:23.137419",
     "exception": false,
     "start_time": "2023-06-17T12:41:23.107229",
     "status": "completed"
    },
    "tags": []
   },
   "outputs": [
    {
     "data": {
      "text/plain": [
       "URLs         0\n",
       "Headline     0\n",
       "Body        21\n",
       "Label        0\n",
       "dtype: int64"
      ]
     },
     "execution_count": 4,
     "metadata": {},
     "output_type": "execute_result"
    }
   ],
   "source": [
    "df.isna().sum()"
   ]
  },
  {
   "cell_type": "code",
   "execution_count": 5,
   "id": "092aa5e5",
   "metadata": {
    "execution": {
     "iopub.execute_input": "2023-06-17T12:41:23.157484Z",
     "iopub.status.busy": "2023-06-17T12:41:23.157050Z",
     "iopub.status.idle": "2023-06-17T12:41:23.165989Z",
     "shell.execute_reply": "2023-06-17T12:41:23.164783Z"
    },
    "papermill": {
     "duration": 0.022755,
     "end_time": "2023-06-17T12:41:23.168672",
     "exception": false,
     "start_time": "2023-06-17T12:41:23.145917",
     "status": "completed"
    },
    "tags": []
   },
   "outputs": [],
   "source": [
    "df['Body']=df['Body'].fillna('')"
   ]
  },
  {
   "cell_type": "code",
   "execution_count": 6,
   "id": "0c19da46",
   "metadata": {
    "execution": {
     "iopub.execute_input": "2023-06-17T12:41:23.186851Z",
     "iopub.status.busy": "2023-06-17T12:41:23.186410Z",
     "iopub.status.idle": "2023-06-17T12:41:23.199459Z",
     "shell.execute_reply": "2023-06-17T12:41:23.198672Z"
    },
    "papermill": {
     "duration": 0.024513,
     "end_time": "2023-06-17T12:41:23.201437",
     "exception": false,
     "start_time": "2023-06-17T12:41:23.176924",
     "status": "completed"
    },
    "tags": []
   },
   "outputs": [
    {
     "data": {
      "text/plain": [
       "URLs        0\n",
       "Headline    0\n",
       "Body        0\n",
       "Label       0\n",
       "dtype: int64"
      ]
     },
     "execution_count": 6,
     "metadata": {},
     "output_type": "execute_result"
    }
   ],
   "source": [
    "df.isna().sum()"
   ]
  },
  {
   "cell_type": "code",
   "execution_count": 7,
   "id": "6a47254c",
   "metadata": {
    "execution": {
     "iopub.execute_input": "2023-06-17T12:41:23.220810Z",
     "iopub.status.busy": "2023-06-17T12:41:23.220021Z",
     "iopub.status.idle": "2023-06-17T12:41:25.518155Z",
     "shell.execute_reply": "2023-06-17T12:41:25.516695Z"
    },
    "papermill": {
     "duration": 2.312772,
     "end_time": "2023-06-17T12:41:25.522534",
     "exception": false,
     "start_time": "2023-06-17T12:41:23.209762",
     "status": "completed"
    },
    "tags": []
   },
   "outputs": [],
   "source": [
    "import numpy as np\n",
    "import matplotlib.pyplot as plt\n",
    "\n",
    "# NLP libraries to clean the text data\n",
    "from nltk.corpus import stopwords\n",
    "from nltk.stem.porter import PorterStemmer\n",
    "import re\n",
    "\n",
    "# Vectorization technique TF-IDF\n",
    "from sklearn.feature_extraction.text import TfidfVectorizer\n",
    "\n",
    "# For Splitting the dataset\n",
    "from sklearn.model_selection import train_test_split\n",
    "\n",
    "# Model libraries\n",
    "from sklearn.linear_model import LogisticRegression\n"
   ]
  },
  {
   "cell_type": "code",
   "execution_count": 8,
   "id": "47ba007c",
   "metadata": {
    "execution": {
     "iopub.execute_input": "2023-06-17T12:41:25.542214Z",
     "iopub.status.busy": "2023-06-17T12:41:25.541293Z",
     "iopub.status.idle": "2023-06-17T12:41:25.569668Z",
     "shell.execute_reply": "2023-06-17T12:41:25.568552Z"
    },
    "papermill": {
     "duration": 0.040744,
     "end_time": "2023-06-17T12:41:25.572169",
     "exception": false,
     "start_time": "2023-06-17T12:41:25.531425",
     "status": "completed"
    },
    "tags": []
   },
   "outputs": [],
   "source": [
    "df['total_text']=df['Headline']+df['Body']"
   ]
  },
  {
   "cell_type": "code",
   "execution_count": 9,
   "id": "4a7d1378",
   "metadata": {
    "execution": {
     "iopub.execute_input": "2023-06-17T12:41:25.591049Z",
     "iopub.status.busy": "2023-06-17T12:41:25.590656Z",
     "iopub.status.idle": "2023-06-17T12:41:25.794467Z",
     "shell.execute_reply": "2023-06-17T12:41:25.793280Z"
    },
    "papermill": {
     "duration": 0.216703,
     "end_time": "2023-06-17T12:41:25.797120",
     "exception": false,
     "start_time": "2023-06-17T12:41:25.580417",
     "status": "completed"
    },
    "tags": []
   },
   "outputs": [
    {
     "name": "stdout",
     "output_type": "stream",
     "text": [
      "[nltk_data] Downloading package punkt to /usr/share/nltk_data...\n",
      "[nltk_data]   Package punkt is already up-to-date!\n",
      "[nltk_data] Downloading package stopwords to /usr/share/nltk_data...\n",
      "[nltk_data]   Package stopwords is already up-to-date!\n"
     ]
    },
    {
     "data": {
      "text/plain": [
       "True"
      ]
     },
     "execution_count": 9,
     "metadata": {},
     "output_type": "execute_result"
    }
   ],
   "source": [
    "import re\n",
    "import string\n",
    "import nltk\n",
    "from nltk.corpus import stopwords\n",
    "from nltk.stem import PorterStemmer\n",
    "from nltk.tokenize import word_tokenize\n",
    "\n",
    "# Download required resources (if not already downloaded)\n",
    "nltk.download('punkt')\n",
    "nltk.download('stopwords')"
   ]
  },
  {
   "cell_type": "code",
   "execution_count": 10,
   "id": "d30b867e",
   "metadata": {
    "execution": {
     "iopub.execute_input": "2023-06-17T12:41:25.818819Z",
     "iopub.status.busy": "2023-06-17T12:41:25.817093Z",
     "iopub.status.idle": "2023-06-17T12:41:25.826760Z",
     "shell.execute_reply": "2023-06-17T12:41:25.825365Z"
    },
    "papermill": {
     "duration": 0.023597,
     "end_time": "2023-06-17T12:41:25.830473",
     "exception": false,
     "start_time": "2023-06-17T12:41:25.806876",
     "status": "completed"
    },
    "tags": []
   },
   "outputs": [],
   "source": [
    "def text_cleaning(text):\n",
    "  # Step 1: Removing unwanted characters\n",
    "  text = re.sub('[^a-zA-Z]', ' ', str(text))\n",
    "\n",
    "  # Step 2: Lowercasing\n",
    "  text = text.lower()\n",
    "\n",
    "  # Step 3: Tokenization\n",
    "  tokens = word_tokenize(text)\n",
    "\n",
    "  # Step 4: Stop word removal\n",
    "  stop_words = set(stopwords.words('english'))\n",
    "  tokens = [token for token in tokens if token not in stop_words]\n",
    "\n",
    "  # Step 5: Stemming\n",
    "  stemmer = PorterStemmer()\n",
    "  tokens = [stemmer.stem(token) for token in tokens]\n",
    "\n",
    "  # Join the tokens back into a cleaned text\n",
    "  cleaned_text = ' '.join(tokens)\n",
    "\n",
    "  return cleaned_text"
   ]
  },
  {
   "cell_type": "code",
   "execution_count": 11,
   "id": "659bdc64",
   "metadata": {
    "execution": {
     "iopub.execute_input": "2023-06-17T12:41:25.850821Z",
     "iopub.status.busy": "2023-06-17T12:41:25.850092Z",
     "iopub.status.idle": "2023-06-17T12:41:25.856024Z",
     "shell.execute_reply": "2023-06-17T12:41:25.854463Z"
    },
    "papermill": {
     "duration": 0.019352,
     "end_time": "2023-06-17T12:41:25.858791",
     "exception": false,
     "start_time": "2023-06-17T12:41:25.839439",
     "status": "completed"
    },
    "tags": []
   },
   "outputs": [],
   "source": [
    "X=df['total_text']\n",
    "y=df['Label']"
   ]
  },
  {
   "cell_type": "code",
   "execution_count": 12,
   "id": "766b6c93",
   "metadata": {
    "execution": {
     "iopub.execute_input": "2023-06-17T12:41:25.881287Z",
     "iopub.status.busy": "2023-06-17T12:41:25.880512Z",
     "iopub.status.idle": "2023-06-17T12:42:30.872154Z",
     "shell.execute_reply": "2023-06-17T12:42:30.870931Z"
    },
    "papermill": {
     "duration": 65.005328,
     "end_time": "2023-06-17T12:42:30.875379",
     "exception": false,
     "start_time": "2023-06-17T12:41:25.870051",
     "status": "completed"
    },
    "tags": []
   },
   "outputs": [],
   "source": [
    "X=X.apply(text_cleaning)"
   ]
  },
  {
   "cell_type": "code",
   "execution_count": 13,
   "id": "0240e730",
   "metadata": {
    "execution": {
     "iopub.execute_input": "2023-06-17T12:42:30.895070Z",
     "iopub.status.busy": "2023-06-17T12:42:30.894672Z",
     "iopub.status.idle": "2023-06-17T12:42:30.903865Z",
     "shell.execute_reply": "2023-06-17T12:42:30.902714Z"
    },
    "papermill": {
     "duration": 0.021747,
     "end_time": "2023-06-17T12:42:30.906311",
     "exception": false,
     "start_time": "2023-06-17T12:42:30.884564",
     "status": "completed"
    },
    "tags": []
   },
   "outputs": [],
   "source": [
    "from sklearn.model_selection import train_test_split\n",
    "X_train,X_test,y_train,y_test=train_test_split(X,y,test_size=0.2,random_state=42)"
   ]
  },
  {
   "cell_type": "code",
   "execution_count": 14,
   "id": "955d71ca",
   "metadata": {
    "execution": {
     "iopub.execute_input": "2023-06-17T12:42:30.925003Z",
     "iopub.status.busy": "2023-06-17T12:42:30.924623Z",
     "iopub.status.idle": "2023-06-17T12:42:30.929602Z",
     "shell.execute_reply": "2023-06-17T12:42:30.928552Z"
    },
    "papermill": {
     "duration": 0.017111,
     "end_time": "2023-06-17T12:42:30.931958",
     "exception": false,
     "start_time": "2023-06-17T12:42:30.914847",
     "status": "completed"
    },
    "tags": []
   },
   "outputs": [],
   "source": [
    "tf=TfidfVectorizer()\n"
   ]
  },
  {
   "cell_type": "code",
   "execution_count": 15,
   "id": "32701693",
   "metadata": {
    "execution": {
     "iopub.execute_input": "2023-06-17T12:42:30.950851Z",
     "iopub.status.busy": "2023-06-17T12:42:30.950474Z",
     "iopub.status.idle": "2023-06-17T12:42:32.482959Z",
     "shell.execute_reply": "2023-06-17T12:42:32.482104Z"
    },
    "papermill": {
     "duration": 1.545275,
     "end_time": "2023-06-17T12:42:32.485595",
     "exception": false,
     "start_time": "2023-06-17T12:42:30.940320",
     "status": "completed"
    },
    "tags": []
   },
   "outputs": [],
   "source": [
    "X_tf_train= tf.fit_transform(X_train)\n",
    "X_tf_test= tf.transform(X_test)"
   ]
  },
  {
   "cell_type": "code",
   "execution_count": 16,
   "id": "679769a3",
   "metadata": {
    "execution": {
     "iopub.execute_input": "2023-06-17T12:42:32.505249Z",
     "iopub.status.busy": "2023-06-17T12:42:32.504031Z",
     "iopub.status.idle": "2023-06-17T12:42:32.509735Z",
     "shell.execute_reply": "2023-06-17T12:42:32.508537Z"
    },
    "papermill": {
     "duration": 0.018199,
     "end_time": "2023-06-17T12:42:32.512119",
     "exception": false,
     "start_time": "2023-06-17T12:42:32.493920",
     "status": "completed"
    },
    "tags": []
   },
   "outputs": [],
   "source": [
    "# print(X_tf_train[0])\n"
   ]
  },
  {
   "cell_type": "code",
   "execution_count": 17,
   "id": "9644042d",
   "metadata": {
    "execution": {
     "iopub.execute_input": "2023-06-17T12:42:32.531178Z",
     "iopub.status.busy": "2023-06-17T12:42:32.530340Z",
     "iopub.status.idle": "2023-06-17T12:42:32.535972Z",
     "shell.execute_reply": "2023-06-17T12:42:32.534981Z"
    },
    "papermill": {
     "duration": 0.017681,
     "end_time": "2023-06-17T12:42:32.538261",
     "exception": false,
     "start_time": "2023-06-17T12:42:32.520580",
     "status": "completed"
    },
    "tags": []
   },
   "outputs": [],
   "source": [
    "from sklearn.linear_model import LogisticRegression"
   ]
  },
  {
   "cell_type": "code",
   "execution_count": 18,
   "id": "633bc495",
   "metadata": {
    "execution": {
     "iopub.execute_input": "2023-06-17T12:42:32.557927Z",
     "iopub.status.busy": "2023-06-17T12:42:32.557338Z",
     "iopub.status.idle": "2023-06-17T12:42:33.313057Z",
     "shell.execute_reply": "2023-06-17T12:42:33.311621Z"
    },
    "papermill": {
     "duration": 0.769704,
     "end_time": "2023-06-17T12:42:33.317044",
     "exception": false,
     "start_time": "2023-06-17T12:42:32.547340",
     "status": "completed"
    },
    "tags": []
   },
   "outputs": [
    {
     "data": {
      "text/plain": [
       "0.9750623441396509"
      ]
     },
     "execution_count": 18,
     "metadata": {},
     "output_type": "execute_result"
    }
   ],
   "source": [
    "lr=LogisticRegression()\n",
    "lr.fit(X_tf_train,y_train)\n",
    "lr.score(X_tf_test,y_test)\n"
   ]
  },
  {
   "cell_type": "code",
   "execution_count": 19,
   "id": "3d3b076a",
   "metadata": {
    "execution": {
     "iopub.execute_input": "2023-06-17T12:42:33.400098Z",
     "iopub.status.busy": "2023-06-17T12:42:33.398841Z",
     "iopub.status.idle": "2023-06-17T12:42:33.405994Z",
     "shell.execute_reply": "2023-06-17T12:42:33.404728Z"
    },
    "papermill": {
     "duration": 0.047763,
     "end_time": "2023-06-17T12:42:33.407930",
     "exception": false,
     "start_time": "2023-06-17T12:42:33.360167",
     "status": "completed"
    },
    "tags": []
   },
   "outputs": [],
   "source": [
    "# y_pred=lr.predict(X_tf_test)"
   ]
  },
  {
   "cell_type": "code",
   "execution_count": 20,
   "id": "efd25119",
   "metadata": {
    "execution": {
     "iopub.execute_input": "2023-06-17T12:42:33.427313Z",
     "iopub.status.busy": "2023-06-17T12:42:33.426594Z",
     "iopub.status.idle": "2023-06-17T12:42:33.430407Z",
     "shell.execute_reply": "2023-06-17T12:42:33.429682Z"
    },
    "papermill": {
     "duration": 0.016319,
     "end_time": "2023-06-17T12:42:33.432763",
     "exception": false,
     "start_time": "2023-06-17T12:42:33.416444",
     "status": "completed"
    },
    "tags": []
   },
   "outputs": [],
   "source": [
    "# df1=pd.read_csv('/kaggle/input/fake-news-detection/data.h5')"
   ]
  },
  {
   "cell_type": "code",
   "execution_count": null,
   "id": "5118b15d",
   "metadata": {
    "papermill": {
     "duration": 0.00837,
     "end_time": "2023-06-17T12:42:33.449676",
     "exception": false,
     "start_time": "2023-06-17T12:42:33.441306",
     "status": "completed"
    },
    "tags": []
   },
   "outputs": [],
   "source": []
  },
  {
   "cell_type": "code",
   "execution_count": null,
   "id": "c6a41a80",
   "metadata": {
    "papermill": {
     "duration": 0.008359,
     "end_time": "2023-06-17T12:42:33.466777",
     "exception": false,
     "start_time": "2023-06-17T12:42:33.458418",
     "status": "completed"
    },
    "tags": []
   },
   "outputs": [],
   "source": []
  }
 ],
 "metadata": {
  "kernelspec": {
   "display_name": "Python 3",
   "language": "python",
   "name": "python3"
  },
  "language_info": {
   "codemirror_mode": {
    "name": "ipython",
    "version": 3
   },
   "file_extension": ".py",
   "mimetype": "text/x-python",
   "name": "python",
   "nbconvert_exporter": "python",
   "pygments_lexer": "ipython3",
   "version": "3.10.10"
  },
  "papermill": {
   "default_parameters": {},
   "duration": 85.348245,
   "end_time": "2023-06-17T12:42:34.598786",
   "environment_variables": {},
   "exception": null,
   "input_path": "__notebook__.ipynb",
   "output_path": "__notebook__.ipynb",
   "parameters": {},
   "start_time": "2023-06-17T12:41:09.250541",
   "version": "2.4.0"
  }
 },
 "nbformat": 4,
 "nbformat_minor": 5
}
